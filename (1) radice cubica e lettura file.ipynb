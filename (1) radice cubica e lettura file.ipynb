{
 "cells": [
  {
   "cell_type": "code",
   "execution_count": 1,
   "metadata": {
    "collapsed": false
   },
   "outputs": [
    {
     "name": "stdout",
     "output_type": "stream",
     "text": [
      "Test  1  ok, result:  3\n",
      "Test  2  ok, result:  -2\n",
      "Test  3  failed!\n",
      "Test  4  ok, result:  1251\n",
      "Test  5  ok, result:  1949306\n",
      "Test  6  failed!\n",
      "Test  7  failed!\n"
     ]
    }
   ],
   "source": [
    "def RadiceCubica(x):\n",
    "    if type(x) != int:\n",
    "        return \"failed\", \"\"\n",
    "    \n",
    "    for y in range(1, abs(x)):\n",
    "        if y**3 == abs(x):\n",
    "            if x<0:\n",
    "                return \"ok\", -y        # so che radice cubica è una funzione dispari\n",
    "            else:\n",
    "                return \"ok\", y\n",
    "    return \"failed\",\"\"                  # fuori dal for perchè controllo che non valga per nessun y, allora gli do failed\n",
    "    \n",
    "    \n",
    "    \n",
    "    ################ completare aggiustando per i negativi\n",
    "\n",
    "def UnitTest():\n",
    "    Xs = [27, -8, 57893, 1957816251, 7406961012236344616, 35.7, 'ciao']\n",
    "    for i,x in enumerate(Xs):\n",
    "        msg, y = RadiceCubica(x)\n",
    "        if msg == 'ok':\n",
    "            print(\"Test \",i+1,' ok, result: ', y)\n",
    "        else:\n",
    "            print(\"Test \",i+1,' failed!')\n",
    "\n",
    "\n",
    "UnitTest()"
   ]
  },
  {
   "cell_type": "code",
   "execution_count": null,
   "metadata": {
    "collapsed": true
   },
   "outputs": [],
   "source": []
  },
  {
   "cell_type": "code",
   "execution_count": null,
   "metadata": {
    "collapsed": true
   },
   "outputs": [],
   "source": []
  },
  {
   "cell_type": "code",
   "execution_count": 10,
   "metadata": {
    "collapsed": false
   },
   "outputs": [
    {
     "name": "stdout",
     "output_type": "stream",
     "text": [
      " Il volume nell'unit… C Š Windows8_OS\n",
      " Numero di serie del volume: 5294-FA14\n",
      "\n",
      " Directory di C:\\Users\\Utente\\Documents\\GitHub\\mia_cartella\n",
      "\n",
      "05/04/2017  21:09    <DIR>          .\n",
      "05/04/2017  21:09    <DIR>          ..\n",
      "28/03/2017  21:57               395 .gitattributes\n",
      "28/03/2017  21:57               696 .gitignore\n",
      "05/04/2017  17:18    <DIR>          .ipynb_checkpoints\n",
      "05/04/2017  21:08             4.180 compito 0.ipynb\n",
      "01/04/2017  16:14            49.124 Compito 2 (consegnato).ipynb\n",
      "30/03/2017  19:03             7.767 Fagioli2.ipynb\n",
      "30/03/2017  18:45            12.895 Fagiolo.ipynb\n",
      "30/03/2017  22:09             6.491 fold x compito.ipynb\n",
      "05/04/2017  17:07           166.554 frattali iniziale.ipynb\n",
      "19/03/2017  17:51             2.283 lab2.ipynb\n",
      "05/04/2017  18:49           902.236 mandelbrot.ipynb\n",
      "01/04/2017  12:36             2.497 numeri primi e fibonacci con la lista infinita.ipynb\n",
      "23/03/2017  17:22            61.194 train.csv\n",
      "23/03/2017  17:22               815 train-small.csv\n",
      "              13 File      1.217.127 byte\n",
      "               3 Directory  245.018.345.472 byte disponibili\n"
     ]
    }
   ],
   "source": [
    "ls"
   ]
  },
  {
   "cell_type": "code",
   "execution_count": 4,
   "metadata": {
    "collapsed": false
   },
   "outputs": [
    {
     "name": "stdout",
     "output_type": "stream",
     "text": [
      "342\n"
     ]
    }
   ],
   "source": [
    "def ReadAndCount(filename):                     ############################################## ECCOLOOOOOOOO ################\n",
    "    doc = open(filename, 'r')\n",
    "    soprtot=0\n",
    "    for row in doc:\n",
    "        a=row.replace(\"\\n\", \"\")\n",
    "        b=a.replace('\"', \"\")\n",
    "        c=b.split()                                  # in d=c[0] ci sono stringhe così:\n",
    "        d=c[0]                                       #  1,0,3,Braund,\n",
    "                                                     #  72,0,3,Goodwin,\n",
    "                                                     #  159,0,3,Smiljanic,\n",
    "                \n",
    "        numbers=[]                                   ######### metodo contorto:\n",
    "        for k in range(0,10):                                # creo una lista delle 10 cifre in str e controllo i caratteri\n",
    "            numbers+=[str(k)]\n",
    "\n",
    "        sopr=0\n",
    "        if d[0] in numbers:\n",
    "            if d[1] in numbers:\n",
    "                if d[2] in numbers:\n",
    "                    sopr=int(d[4])          # sopravvissuti\n",
    "                else:\n",
    "                    sopr=int(d[3])\n",
    "            else:\n",
    "                sopr=int(d[2])\n",
    "                \n",
    "        soprtot+=sopr                # lo salvo nei sopravvissuti totali\n",
    "    doc.close()\n",
    "    return soprtot\n",
    "\n",
    "\n",
    "print(ReadAndCount('data/train.csv'))"
   ]
  },
  {
   "cell_type": "code",
   "execution_count": 92,
   "metadata": {
    "collapsed": false
   },
   "outputs": [],
   "source": [
    "a=[\"s,3it\", \"sticaz\"]"
   ]
  },
  {
   "cell_type": "code",
   "execution_count": 93,
   "metadata": {
    "collapsed": false
   },
   "outputs": [
    {
     "ename": "ValueError",
     "evalue": "invalid literal for int() with base 10: ','",
     "output_type": "error",
     "traceback": [
      "\u001b[0;31m---------------------------------------------------------------------------\u001b[0m",
      "\u001b[0;31mValueError\u001b[0m                                Traceback (most recent call last)",
      "\u001b[0;32m<ipython-input-93-12a8491591bd>\u001b[0m in \u001b[0;36m<module>\u001b[0;34m()\u001b[0m\n\u001b[1;32m      1\u001b[0m \u001b[0mb\u001b[0m\u001b[1;33m=\u001b[0m\u001b[0ma\u001b[0m\u001b[1;33m[\u001b[0m\u001b[1;36m0\u001b[0m\u001b[1;33m]\u001b[0m\u001b[1;33m\u001b[0m\u001b[0m\n\u001b[0;32m----> 2\u001b[0;31m \u001b[0mtype\u001b[0m\u001b[1;33m(\u001b[0m\u001b[0mint\u001b[0m\u001b[1;33m(\u001b[0m\u001b[0mb\u001b[0m\u001b[1;33m[\u001b[0m\u001b[1;36m1\u001b[0m\u001b[1;33m]\u001b[0m\u001b[1;33m)\u001b[0m\u001b[1;33m)\u001b[0m\u001b[1;33m==\u001b[0m\u001b[0mint\u001b[0m\u001b[1;33m\u001b[0m\u001b[0m\n\u001b[0m",
      "\u001b[0;31mValueError\u001b[0m: invalid literal for int() with base 10: ','"
     ]
    }
   ],
   "source": [
    "b=a[0]\n",
    "type(int(b[1]))==int"
   ]
  },
  {
   "cell_type": "code",
   "execution_count": 132,
   "metadata": {
    "collapsed": false
   },
   "outputs": [
    {
     "name": "stdout",
     "output_type": "stream",
     "text": [
      "['0', '1', '2', '3', '4', '5', '6', '7', '8', '9']\n"
     ]
    }
   ],
   "source": [
    "numbers=[]\n",
    "for k in range(0,10):\n",
    "    numbers+=[str(k)]\n",
    "            \n",
    "print(numbers)"
   ]
  },
  {
   "cell_type": "code",
   "execution_count": null,
   "metadata": {
    "collapsed": false
   },
   "outputs": [],
   "source": []
  },
  {
   "cell_type": "code",
   "execution_count": null,
   "metadata": {
    "collapsed": true
   },
   "outputs": [],
   "source": []
  }
 ],
 "metadata": {
  "kernelspec": {
   "display_name": "Python 3",
   "language": "python",
   "name": "python3"
  },
  "language_info": {
   "codemirror_mode": {
    "name": "ipython",
    "version": 3
   },
   "file_extension": ".py",
   "mimetype": "text/x-python",
   "name": "python",
   "nbconvert_exporter": "python",
   "pygments_lexer": "ipython3",
   "version": "3.6.0"
  }
 },
 "nbformat": 4,
 "nbformat_minor": 2
}
