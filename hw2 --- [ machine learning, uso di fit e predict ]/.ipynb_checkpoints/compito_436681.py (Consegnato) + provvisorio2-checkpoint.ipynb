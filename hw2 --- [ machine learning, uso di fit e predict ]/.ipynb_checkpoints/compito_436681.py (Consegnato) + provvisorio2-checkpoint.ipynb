{
 "cells": [
  {
   "cell_type": "code",
   "execution_count": 25,
   "metadata": {
    "collapsed": true
   },
   "outputs": [],
   "source": [
    "########### QUELLO CONSEGNATO ############\n",
    "\n",
    "def NomeCognome():\n",
    "    return \"Samuele Traviganti 436681\"\n",
    "\n",
    "def ConvSex(s):\n",
    "    if s=='male':\n",
    "        return 1\n",
    "    elif s=='female':\n",
    "        return 0\n",
    "    else:\n",
    "        return 1       # metto come 'male' quei dati che non riesco a leggere (non voglio usare try-ecxcept)\n",
    "    \n",
    "def ConvEmb(e):\n",
    "    if e=='S':\n",
    "        return 2\n",
    "    elif e=='C':\n",
    "        return 1\n",
    "    elif e=='Q':\n",
    "        return 0\n",
    "    else:\n",
    "        return 2      # metto come 'S' quelli che non leggo\n",
    "\n",
    "    \n",
    "from sklearn.model_selection import train_test_split\n",
    "from sklearn.linear_model import LinearRegression\n",
    "\n",
    "def Train(Xs):\n",
    "    def ConvertInput(data):\n",
    "        data['Sex']=data['Sex'].apply(ConvSex)\n",
    "        data['Embarked']=data['Embarked'].apply(ConvEmb)\n",
    "        \n",
    "    def FilterInput(data):\n",
    "        data=data[data['Sex']>=0]\n",
    "        data=data[data['Embarked']>=0]\n",
    "        return data\n",
    "                \n",
    "    def Predict(x_test):\n",
    "        x_test = ConvertInput(x_test)\n",
    "        # Se avete fatto un fitting qui dovete richiamare il \n",
    "        # metodo per fare le previsioni\n",
    "        x_test=x_test[['Sex', 'Embarked']]\n",
    "        y_pred=lr.predict(x_test)\n",
    "        return y_pred\n",
    "\n",
    "    # Parte principale della funzione 'Train'\n",
    "    \n",
    "    # Elabora i dati\n",
    "    Xs = ConvertInput(Xs)\n",
    "    Xs = FilterInput(Xs)\n",
    "    \n",
    "    # Fitting dei dati con il vostro metodo scelto\n",
    "    x_train, x_test, y_train, y_test = train_test_split(Xs, ['Sex','Embarked'], 'Survived')\n",
    "    \n",
    "    lr=LinearRegression(nomalize=True)\n",
    "    lr.fit(x_train, y_train)\n",
    "\n",
    "    # Esempio insignificanti: sopravvivono solo i maschi\n",
    "    # NO FITTING                \n",
    "    \n",
    "    return Predict"
   ]
  },
  {
   "cell_type": "code",
   "execution_count": 24,
   "metadata": {
    "collapsed": false
   },
   "outputs": [],
   "source": [
    "from sklearn.model_selection import train_test_split\n",
    "from sklearn.linear_model import LinearRegression\n",
    "\n",
    "def NomeCognome():\n",
    "    return \"Samuele Traviganti 436681\"\n",
    "\n",
    "def ConvSex(s):\n",
    "    if s=='male':\n",
    "        return 1\n",
    "    elif s=='female':\n",
    "        return 0\n",
    "    else:\n",
    "        return 1       # metto come 'male' quei dati che non riesco a leggere (non voglio usare try-ecxcept)\n",
    "    \n",
    "def ConvEmb(e):\n",
    "    if e=='S':\n",
    "        return 2\n",
    "    elif e=='C':\n",
    "        return 1\n",
    "    elif e=='Q':\n",
    "        return 0\n",
    "    else:\n",
    "        return 2      # metto come 'S' quelli che non leggo\n",
    "\n",
    "\n",
    "def Train(Xs):\n",
    "    def ConvertInput(data):\n",
    "        data['Sex']=data['Sex'].apply(ConvSex)\n",
    "        data['Embarked']=data['Embarked'].apply(ConvEmb)\n",
    "        \n",
    "    def FilterInput(data):\n",
    "        data=data[data['Sex']>=0]\n",
    "        data=data[data['Embarked']>=0]\n",
    "        return data\n",
    "        \n",
    "        \n",
    "    def Predict(x_test):\n",
    "        x_test=ConvertInput(x_test)\n",
    "        x_test=x_test[['Sex', 'Embarked']]\n",
    "        y_pred=lr.predict(x_test)\n",
    "        return y_pred\n",
    "\n",
    "    Xs=ConvertInput(Xs)\n",
    "    Xs=FilterInput(Xs)\n",
    "    x_train, x_test, y_train, y_test = train_test_split(Xs, ['Sex','Embarked'], 'Survived')\n",
    "    \n",
    "    lr=LinearRegression(nomalize=True)\n",
    "    lr.fit(x_train, y_train)\n",
    "    return Predict"
   ]
  },
  {
   "cell_type": "code",
   "execution_count": 23,
   "metadata": {
    "collapsed": false
   },
   "outputs": [
    {
     "ename": "ValueError",
     "evalue": "Found input variables with inconsistent numbers of samples: [891, 2, 8]",
     "output_type": "error",
     "traceback": [
      "\u001b[0;31m---------------------------------------------------------------------------\u001b[0m",
      "\u001b[0;31mValueError\u001b[0m                                Traceback (most recent call last)",
      "\u001b[0;32m<ipython-input-23-25bd4e77c40a>\u001b[0m in \u001b[0;36m<module>\u001b[0;34m()\u001b[0m\n\u001b[1;32m      3\u001b[0m \u001b[0mdf\u001b[0m \u001b[1;33m=\u001b[0m \u001b[0mpd\u001b[0m\u001b[1;33m.\u001b[0m\u001b[0mread_csv\u001b[0m\u001b[1;33m(\u001b[0m\u001b[1;34m'train.csv'\u001b[0m\u001b[1;33m)\u001b[0m\u001b[1;33m\u001b[0m\u001b[0m\n\u001b[1;32m      4\u001b[0m \u001b[1;33m\u001b[0m\u001b[0m\n\u001b[0;32m----> 5\u001b[0;31m \u001b[0mn\u001b[0m\u001b[1;33m,\u001b[0m \u001b[0my_test\u001b[0m \u001b[1;33m=\u001b[0m \u001b[0mtrain_test_split\u001b[0m\u001b[1;33m(\u001b[0m\u001b[0mdf\u001b[0m\u001b[1;33m,\u001b[0m \u001b[1;33m[\u001b[0m\u001b[1;34m'Sex'\u001b[0m\u001b[1;33m,\u001b[0m\u001b[1;34m'Embarked'\u001b[0m\u001b[1;33m]\u001b[0m\u001b[1;33m,\u001b[0m \u001b[1;34m'Survived'\u001b[0m\u001b[1;33m)\u001b[0m\u001b[1;33m\u001b[0m\u001b[0m\n\u001b[0m\u001b[1;32m      6\u001b[0m \u001b[0mP\u001b[0m \u001b[1;33m=\u001b[0m \u001b[0mTrain\u001b[0m\u001b[1;33m(\u001b[0m\u001b[0mdf\u001b[0m\u001b[1;33m)\u001b[0m\u001b[1;33m\u001b[0m\u001b[0m\n\u001b[1;32m      7\u001b[0m \u001b[0my_pred\u001b[0m \u001b[1;33m=\u001b[0m \u001b[0mP\u001b[0m\u001b[1;33m(\u001b[0m\u001b[0mx_test\u001b[0m\u001b[1;33m)\u001b[0m\u001b[1;33m\u001b[0m\u001b[0m\n",
      "\u001b[0;32mC:\\Users\\Utente\\Anaconda3\\lib\\site-packages\\sklearn\\model_selection\\_split.py\u001b[0m in \u001b[0;36mtrain_test_split\u001b[0;34m(*arrays, **options)\u001b[0m\n\u001b[1;32m   1687\u001b[0m         \u001b[0mtest_size\u001b[0m \u001b[1;33m=\u001b[0m \u001b[1;36m0.25\u001b[0m\u001b[1;33m\u001b[0m\u001b[0m\n\u001b[1;32m   1688\u001b[0m \u001b[1;33m\u001b[0m\u001b[0m\n\u001b[0;32m-> 1689\u001b[0;31m     \u001b[0marrays\u001b[0m \u001b[1;33m=\u001b[0m \u001b[0mindexable\u001b[0m\u001b[1;33m(\u001b[0m\u001b[1;33m*\u001b[0m\u001b[0marrays\u001b[0m\u001b[1;33m)\u001b[0m\u001b[1;33m\u001b[0m\u001b[0m\n\u001b[0m\u001b[1;32m   1690\u001b[0m \u001b[1;33m\u001b[0m\u001b[0m\n\u001b[1;32m   1691\u001b[0m     \u001b[1;32mif\u001b[0m \u001b[0mstratify\u001b[0m \u001b[1;32mis\u001b[0m \u001b[1;32mnot\u001b[0m \u001b[1;32mNone\u001b[0m\u001b[1;33m:\u001b[0m\u001b[1;33m\u001b[0m\u001b[0m\n",
      "\u001b[0;32mC:\\Users\\Utente\\Anaconda3\\lib\\site-packages\\sklearn\\utils\\validation.py\u001b[0m in \u001b[0;36mindexable\u001b[0;34m(*iterables)\u001b[0m\n\u001b[1;32m    204\u001b[0m         \u001b[1;32melse\u001b[0m\u001b[1;33m:\u001b[0m\u001b[1;33m\u001b[0m\u001b[0m\n\u001b[1;32m    205\u001b[0m             \u001b[0mresult\u001b[0m\u001b[1;33m.\u001b[0m\u001b[0mappend\u001b[0m\u001b[1;33m(\u001b[0m\u001b[0mnp\u001b[0m\u001b[1;33m.\u001b[0m\u001b[0marray\u001b[0m\u001b[1;33m(\u001b[0m\u001b[0mX\u001b[0m\u001b[1;33m)\u001b[0m\u001b[1;33m)\u001b[0m\u001b[1;33m\u001b[0m\u001b[0m\n\u001b[0;32m--> 206\u001b[0;31m     \u001b[0mcheck_consistent_length\u001b[0m\u001b[1;33m(\u001b[0m\u001b[1;33m*\u001b[0m\u001b[0mresult\u001b[0m\u001b[1;33m)\u001b[0m\u001b[1;33m\u001b[0m\u001b[0m\n\u001b[0m\u001b[1;32m    207\u001b[0m     \u001b[1;32mreturn\u001b[0m \u001b[0mresult\u001b[0m\u001b[1;33m\u001b[0m\u001b[0m\n\u001b[1;32m    208\u001b[0m \u001b[1;33m\u001b[0m\u001b[0m\n",
      "\u001b[0;32mC:\\Users\\Utente\\Anaconda3\\lib\\site-packages\\sklearn\\utils\\validation.py\u001b[0m in \u001b[0;36mcheck_consistent_length\u001b[0;34m(*arrays)\u001b[0m\n\u001b[1;32m    179\u001b[0m     \u001b[1;32mif\u001b[0m \u001b[0mlen\u001b[0m\u001b[1;33m(\u001b[0m\u001b[0muniques\u001b[0m\u001b[1;33m)\u001b[0m \u001b[1;33m>\u001b[0m \u001b[1;36m1\u001b[0m\u001b[1;33m:\u001b[0m\u001b[1;33m\u001b[0m\u001b[0m\n\u001b[1;32m    180\u001b[0m         raise ValueError(\"Found input variables with inconsistent numbers of\"\n\u001b[0;32m--> 181\u001b[0;31m                          \" samples: %r\" % [int(l) for l in lengths])\n\u001b[0m\u001b[1;32m    182\u001b[0m \u001b[1;33m\u001b[0m\u001b[0m\n\u001b[1;32m    183\u001b[0m \u001b[1;33m\u001b[0m\u001b[0m\n",
      "\u001b[0;31mValueError\u001b[0m: Found input variables with inconsistent numbers of samples: [891, 2, 8]"
     ]
    }
   ],
   "source": [
    "import pandas as pd\n",
    " \n",
    "df = pd.read_csv('train.csv')\n",
    "\n",
    "n, y_test = train_test_split(df, ['Sex','Embarked'], 'Survived')         \n",
    "P = Train(df)\n",
    "y_pred = P(x_test)\n",
    "\n",
    "print(len(y_test))\n",
    "print(len(y_pred))\n",
    "            \n",
    "from sklearn.metrics import confusion_matrix, accuracy_score, classification_report\n",
    "\n",
    "def PrintEvaluation(y_test, y_pred):\n",
    "    try:\n",
    "        print('MAE:', mean_absolute_error(y_test, y_pred))\n",
    "        print('MSE:', mean_squared_error(y_test, y_pred))\n",
    "        print('R2:', r2_score(y_test, y_pred))    \n",
    "        print('ACCURACY:', accuracy_score(y_test, y_pred))\n",
    "        print('REPORT:',classification_report(y_test, y_pred))\n",
    "        print('CM:', confusion_matrix(y_test, y_pred))\n",
    "    except:\n",
    "        print('Errore nel calcolo delle statistiche: Debug il tuo codice')"
   ]
  },
  {
   "cell_type": "code",
   "execution_count": null,
   "metadata": {
    "collapsed": false
   },
   "outputs": [],
   "source": []
  },
  {
   "cell_type": "code",
   "execution_count": null,
   "metadata": {
    "collapsed": true
   },
   "outputs": [],
   "source": []
  }
 ],
 "metadata": {
  "kernelspec": {
   "display_name": "Python 3",
   "language": "python",
   "name": "python3"
  },
  "language_info": {
   "codemirror_mode": {
    "name": "ipython",
    "version": 3
   },
   "file_extension": ".py",
   "mimetype": "text/x-python",
   "name": "python",
   "nbconvert_exporter": "python",
   "pygments_lexer": "ipython3",
   "version": "3.6.0"
  }
 },
 "nbformat": 4,
 "nbformat_minor": 2
}
