{
 "cells": [
  {
   "cell_type": "code",
   "execution_count": 11,
   "metadata": {
    "collapsed": false
   },
   "outputs": [
    {
     "name": "stdout",
     "output_type": "stream",
     "text": [
      "Test  1  failed!\n",
      "Test  2  failed!\n",
      "Test  3  failed!\n",
      "Test  4  failed!\n",
      "Test  5  failed!\n",
      "Test  6  failed!\n",
      "Test  7  failed!\n"
     ]
    }
   ],
   "source": [
    "def RadiceCubica(x):           # NON GIRA!!!!\n",
    "    if type(x) != int:\n",
    "        return \"failed\", \"\"\n",
    "    \n",
    "    for y in range(1, abs(x)):\n",
    "        if y^3 == x:\n",
    "            return \"ok\", \"y\"\n",
    "        else: \n",
    "            return \"failed\", \"\"\n",
    "    \n",
    "# Funzione di test per la funzione che dovete implementare\n",
    "def UnitTest():\n",
    "    Xs = [27, -8, 57893, 1957816251, 7406961012236344616, 35.7, 'ciao']\n",
    "    for i,x in enumerate(Xs):\n",
    "        msg, y = RadiceCubica(x)\n",
    "        if msg == 'ok':\n",
    "            print(\"Test \",i+1,' ok, result: ', y)\n",
    "        else:\n",
    "            print(\"Test \",i+1,' failed!')\n",
    "            \n",
    "# Esegui il test\n",
    "UnitTest()"
   ]
  },
  {
   "cell_type": "code",
   "execution_count": 9,
   "metadata": {
    "collapsed": false
   },
   "outputs": [
    {
     "ename": "TypeError",
     "evalue": "bad operand type for abs(): 'str'",
     "output_type": "error",
     "traceback": [
      "\u001b[0;31m---------------------------------------------------------------------------\u001b[0m",
      "\u001b[0;31mTypeError\u001b[0m                                 Traceback (most recent call last)",
      "\u001b[0;32m<ipython-input-9-825f7f828be8>\u001b[0m in \u001b[0;36m<module>\u001b[0;34m()\u001b[0m\n\u001b[0;32m----> 1\u001b[0;31m \u001b[0mabs\u001b[0m\u001b[1;33m(\u001b[0m\u001b[1;34m'ciao'\u001b[0m\u001b[1;33m)\u001b[0m\u001b[1;33m\u001b[0m\u001b[0m\n\u001b[0m",
      "\u001b[0;31mTypeError\u001b[0m: bad operand type for abs(): 'str'"
     ]
    }
   ],
   "source": [
    "abs('ciao')"
   ]
  },
  {
   "cell_type": "code",
   "execution_count": null,
   "metadata": {
    "collapsed": true
   },
   "outputs": [],
   "source": [
    "# COMPLETARE LA FUNZIONE SEGUENTE\n",
    "def ApxRadiceQuadrata(x, epsilon=1e-02):\n",
    "    # DA COMPLETARE\n",
    "    # DA COMPLETARE\n",
    "    # DA COMPLETARE    \n",
    "    return \"failed\", \"\", 0\n",
    "    \n",
    "# Funzione di test per la funzione che dovete implementare\n",
    "def UnitTest():\n",
    "    Xs = [25, 0.25, 123456]\n",
    "    for i,x in enumerate(Xs):\n",
    "        msg, y, iter = ApxRadiceQuadrata(x)\n",
    "        if msg == 'ok':\n",
    "            print(\"Test \",i+1,' ok, result: ', y, ' | iterations:', iter)\n",
    "        else:\n",
    "            print(\"Test \",i+1,' failed! | iterations:', iter)\n",
    "                  \n",
    "# Potete scegliere tra\n",
    "UnitTest()\n",
    "# Oppure, chiamare la funzione con un parametro alla volta\n",
    "#print(ApxRadiceQuadrata(0.25))"
   ]
  }
 ],
 "metadata": {
  "kernelspec": {
   "display_name": "Python 3",
   "language": "python",
   "name": "python3"
  },
  "language_info": {
   "codemirror_mode": {
    "name": "ipython",
    "version": 3
   },
   "file_extension": ".py",
   "mimetype": "text/x-python",
   "name": "python",
   "nbconvert_exporter": "python",
   "pygments_lexer": "ipython3",
   "version": "3.6.0"
  }
 },
 "nbformat": 4,
 "nbformat_minor": 2
}
