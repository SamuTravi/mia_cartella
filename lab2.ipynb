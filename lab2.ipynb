{
 "cells": [
  {
   "cell_type": "code",
   "execution_count": 1,
   "metadata": {
    "collapsed": true
   },
   "outputs": [],
   "source": [
    "def Intersect(As, Bs):\n",
    "    Cs=tuple()     # per creare una tupla vuota e poi si può sommare come un altro oggetto\n",
    "    for x in As:\n",
    "        for y in Bs:\n",
    "            if y == x:\n",
    "                Cs+=(y,)\n",
    "    return Cs\n",
    "\n",
    "def UnitTest():\n",
    "    As=(1,2,3,4,6)\n",
    "    Bs=(2,5)\n",
    "    Cs=Intersect(As, Bs)\n",
    "    print(\"\", Cs)\n"
   ]
  },
  {
   "cell_type": "code",
   "execution_count": 2,
   "metadata": {
    "collapsed": false
   },
   "outputs": [
    {
     "name": "stdout",
     "output_type": "stream",
     "text": [
      "L1 = [5, 6, 6, 3, 9]\n"
     ]
    }
   ],
   "source": [
    "def RimuoviDuplicati(As, Bs):\n",
    "    for x in list(As):     # list fa una copia della lista As (perché ad As vengono rimossi elementi) \n",
    "        if x in Bs:\n",
    "            As.remove(x)\n",
    "    pass\n",
    "\n",
    "L1 = [2, 4, 2, 5, 6, 6, 3, 2, 9, 4]      # senza list(As) l'ultimo 4 non veniva eliminato\n",
    "L2 = [2, 4, 7]\n",
    "RimuoviDuplicati(L1, L2)\n",
    "print('L1 =', L1)"
   ]
  },
  {
   "cell_type": "code",
   "execution_count": 3,
   "metadata": {
    "collapsed": true
   },
   "outputs": [],
   "source": [
    "def ReadAndCount(filename):\n",
    "    doc = open(filename, 'r')\n",
    "    for row in doc:\n",
    "        print(row)\n",
    "        doc.replace(\"\\n\", )    # non funziona!\n",
    "        doc.replace(\"\", )\n",
    "        doc.split(d)\n",
    "              \n",
    "    doc.close()\n"
   ]
  },
  {
   "cell_type": "code",
   "execution_count": null,
   "metadata": {
    "collapsed": true
   },
   "outputs": [],
   "source": []
  }
 ],
 "metadata": {
  "kernelspec": {
   "display_name": "Python 3",
   "language": "python",
   "name": "python3"
  },
  "language_info": {
   "codemirror_mode": {
    "name": "ipython",
    "version": 3
   },
   "file_extension": ".py",
   "mimetype": "text/x-python",
   "name": "python",
   "nbconvert_exporter": "python",
   "pygments_lexer": "ipython3",
   "version": "3.6.0"
  }
 },
 "nbformat": 4,
 "nbformat_minor": 2
}
