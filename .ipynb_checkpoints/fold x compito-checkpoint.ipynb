{
 "cells": [
  {
   "cell_type": "code",
   "execution_count": 38,
   "metadata": {
    "collapsed": false
   },
   "outputs": [],
   "source": [
    "def Fold(F, v, Ls):\n",
    "    if Ls == []:\n",
    "        return v\n",
    "    else:\n",
    "        return F(Ls[0], Fold(F, v, Ls[1:]))\n",
    "\n",
    "\n",
    "def And(Ls):\n",
    "    def FAnd(a,b):\n",
    "        return a and b\n",
    "    return Fold(lambda a,b: a and b, True, Ls)\n",
    "\n",
    "def Or(Ls):\n",
    "    def FOr(a,b):\n",
    "        return a or b\n",
    "    return Fold(FOr, False, Ls)"
   ]
  },
  {
   "cell_type": "code",
   "execution_count": null,
   "metadata": {
    "collapsed": false
   },
   "outputs": [],
   "source": []
  },
  {
   "cell_type": "code",
   "execution_count": 77,
   "metadata": {
    "collapsed": false
   },
   "outputs": [
    {
     "data": {
      "text/plain": [
       "(1, (2, (3, (1, (2, (2, 133))))))"
      ]
     },
     "execution_count": 77,
     "metadata": {},
     "output_type": "execute_result"
    }
   ],
   "source": [
    "def FM(Ls):\n",
    "    def FFM(a,b):\n",
    "        return (a,b)\n",
    "    return Fold(FFM, 133, Ls)                  # ad es 133 elemento neutro per la lista vuota\n",
    "\n",
    "FM([1,2,3,1,2,2])   ############################################################## NON SCURDA'"
   ]
  },
  {
   "cell_type": "code",
   "execution_count": 40,
   "metadata": {
    "collapsed": false
   },
   "outputs": [],
   "source": [
    "def Length(Ls):\n",
    "    def FLength(a,b):                   # b è il numero di iterazioni\n",
    "        return b+1                      # non gli interessa cosa fa a ma solo il passo prima in cui viene calcolato un numero (b)\n",
    "    return Fold(FLength, 0, Ls)"
   ]
  },
  {
   "cell_type": "code",
   "execution_count": 41,
   "metadata": {
    "collapsed": false
   },
   "outputs": [],
   "source": [
    "def Reverse(Ls):                                    ############## EUREKA\n",
    "    def FReverse(a,LLs):\n",
    "        return LLs+[a]\n",
    "    return Fold(FReverse, [], Ls)"
   ]
  },
  {
   "cell_type": "code",
   "execution_count": 42,
   "metadata": {
    "collapsed": false
   },
   "outputs": [
    {
     "data": {
      "text/plain": [
       "[2, 51, 24, 1, 4, 1]"
      ]
     },
     "execution_count": 42,
     "metadata": {},
     "output_type": "execute_result"
    }
   ],
   "source": [
    "Reverse([1,4, 1, 24, 51, 2])"
   ]
  },
  {
   "cell_type": "code",
   "execution_count": 43,
   "metadata": {
    "collapsed": false
   },
   "outputs": [],
   "source": [
    "def FoldFactorial(n):\n",
    "    Ns=list(range(1,n+1))\n",
    "    return Fold(lambda a,b: a*b, 1, Ns)"
   ]
  },
  {
   "cell_type": "code",
   "execution_count": 44,
   "metadata": {
    "collapsed": false
   },
   "outputs": [
    {
     "data": {
      "text/plain": [
       "[1, 1, 2, 6, 24, 120, 720, 5040, 40320, 362880]"
      ]
     },
     "execution_count": 44,
     "metadata": {},
     "output_type": "execute_result"
    }
   ],
   "source": [
    "list(FoldFactorial(n) for n in range(10))"
   ]
  },
  {
   "cell_type": "code",
   "execution_count": 45,
   "metadata": {
    "collapsed": false
   },
   "outputs": [],
   "source": [
    "def Map(F,Ls):\n",
    "    def FMap(a,LLs):\n",
    "        return [F(a)]+LLs\n",
    "    return Fold(FMap, [], Ls)"
   ]
  },
  {
   "cell_type": "code",
   "execution_count": 46,
   "metadata": {
    "collapsed": false
   },
   "outputs": [],
   "source": [
    "def Filter(P, Ls):\n",
    "    def FFilter(a, LLs):\n",
    "        if P(a) == True:\n",
    "            return [a]+LLs           # se il predicato su a è vero lo attacco\n",
    "        else:\n",
    "            return LLs               # se no lascia la lista invariata\n",
    "    return Fold(FFilter, [], Ls)"
   ]
  },
  {
   "cell_type": "code",
   "execution_count": 47,
   "metadata": {
    "collapsed": false
   },
   "outputs": [
    {
     "data": {
      "text/plain": [
       "[1, 4, 9]"
      ]
     },
     "execution_count": 47,
     "metadata": {},
     "output_type": "execute_result"
    }
   ],
   "source": [
    "Map(lambda x: x**2, [1,2,3])"
   ]
  },
  {
   "cell_type": "code",
   "execution_count": 48,
   "metadata": {
    "collapsed": false,
    "scrolled": true
   },
   "outputs": [
    {
     "data": {
      "text/plain": [
       "[1, 4, 7]"
      ]
     },
     "execution_count": 48,
     "metadata": {},
     "output_type": "execute_result"
    }
   ],
   "source": [
    "Filter(lambda x: x%3 ==1, [1,2,3,4,5,6,7])"
   ]
  },
  {
   "cell_type": "code",
   "execution_count": 50,
   "metadata": {
    "collapsed": true
   },
   "outputs": [],
   "source": [
    "def SumLength(Ls):\n",
    "    return (Fold(lambda x,y: x+y, 0, Ls), Length(Ls))        # con una lambda oppure faccio una def come sopra"
   ]
  },
  {
   "cell_type": "code",
   "execution_count": 75,
   "metadata": {
    "collapsed": false
   },
   "outputs": [],
   "source": [
    "def FoldLeft(F, v, Ls):\n",
    "    if Ls == []:\n",
    "        return v\n",
    "    else:\n",
    "        return F(FoldLeft(F, v, Ls[:-1]), Ls[-1])"
   ]
  },
  {
   "cell_type": "code",
   "execution_count": 79,
   "metadata": {
    "collapsed": false
   },
   "outputs": [
    {
     "data": {
      "text/plain": [
       "((((((133, 1), 2), 3), 1), 2), 2)"
      ]
     },
     "execution_count": 79,
     "metadata": {},
     "output_type": "execute_result"
    }
   ],
   "source": [
    "def FM(Ls):\n",
    "    def FFM(a,b):\n",
    "        return (a,b)\n",
    "    return FoldLeft(FFM, 133, Ls)                       # controllo per la fold left che associ a sinistra\n",
    "\n",
    "FM([1,2,3,1,2,2]) "
   ]
  },
  {
   "cell_type": "code",
   "execution_count": null,
   "metadata": {
    "collapsed": true
   },
   "outputs": [],
   "source": []
  },
  {
   "cell_type": "code",
   "execution_count": null,
   "metadata": {
    "collapsed": true
   },
   "outputs": [],
   "source": []
  }
 ],
 "metadata": {
  "kernelspec": {
   "display_name": "Python 3",
   "language": "python",
   "name": "python3"
  },
  "language_info": {
   "codemirror_mode": {
    "name": "ipython",
    "version": 3
   },
   "file_extension": ".py",
   "mimetype": "text/x-python",
   "name": "python",
   "nbconvert_exporter": "python",
   "pygments_lexer": "ipython3",
   "version": "3.6.0"
  }
 },
 "nbformat": 4,
 "nbformat_minor": 2
}
