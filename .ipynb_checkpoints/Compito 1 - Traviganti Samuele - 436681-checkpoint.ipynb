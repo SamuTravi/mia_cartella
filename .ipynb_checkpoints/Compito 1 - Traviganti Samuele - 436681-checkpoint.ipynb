{
 "cells": [
  {
   "cell_type": "code",
   "execution_count": null,
   "metadata": {
    "collapsed": true
   },
   "outputs": [],
   "source": [
    "def NomeCognome():\n",
    "    return \"Samuele Traviganti 436681\"\n",
    "\n",
    "## PARTE PRIMA: ESERCIZI CON FOLD\n",
    "##-------------------------------\n",
    "\n",
    "def And(Ls):\n",
    "    # DA COMPLETARE\n",
    "    pass\n",
    "\n",
    "def Or(Ls):\n",
    "    # DA COMPLETARE\n",
    "    pass\n",
    "\n",
    "def Length(Ls):\n",
    "    # DA COMPLETARE\n",
    "    pass\n",
    "\n",
    "def Reverse(Ls):\n",
    "    # DA COMPLETARE\n",
    "    pass\n",
    "\n",
    "def FoldFactorial(Ls):\n",
    "    # DA COMPLETARE\n",
    "    pass\n",
    "\n",
    "def SumLength(Ls):\n",
    "    # DA COMPLETARE\n",
    "    pass\n",
    "\n",
    "def Map(Ls):\n",
    "    # DA COMPLETARE\n",
    "    pass\n",
    "\n",
    "def Filter(Ls):\n",
    "    # DA COMPLETARE\n",
    "    pass\n",
    "\n",
    "def FoldLeft(Ls):\n",
    "    # DA COMPLETARE\n",
    "    pass\n",
    "\n",
    "## PARTE SECONDA: LISTA INFINITA NUMERI PRIMI\n",
    "##-------------------------------------------\n",
    "\n",
    "def NumeriPrimi():\n",
    "    # DA COMPLETARE\n",
    "    pass\n",
    "\n",
    "def Fibonacci():\n",
    "    # DA COMPLETARE (FACOLTATIVO)\n",
    "    pass\n",
    "\n",
    "## PARTE TERZA: JULIA SET E FRATTALI\n",
    "##----------------------------------\n",
    "\n",
    "def JuliaSetRec(z, c, k, max_k=64):\n",
    "    # DA COMPLETARE\n",
    "    pass"
   ]
  }
 ],
 "metadata": {
  "kernelspec": {
   "display_name": "Python 3",
   "language": "python",
   "name": "python3"
  },
  "language_info": {
   "codemirror_mode": {
    "name": "ipython",
    "version": 3
   },
   "file_extension": ".py",
   "mimetype": "text/x-python",
   "name": "python",
   "nbconvert_exporter": "python",
   "pygments_lexer": "ipython3",
   "version": "3.6.0"
  }
 },
 "nbformat": 4,
 "nbformat_minor": 2
}
