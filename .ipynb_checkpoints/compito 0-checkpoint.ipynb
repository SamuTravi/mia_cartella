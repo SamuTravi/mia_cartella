{
 "cells": [
  {
   "cell_type": "code",
   "execution_count": null,
   "metadata": {
    "collapsed": true
   },
   "outputs": [],
   "source": [
    "def RadiceCubica(x):\n",
    "    if type(x) != int:\n",
    "        return \"failed\", \"\"\n",
    "    \n",
    "    for y in range(1, abs(x)):\n",
    "        if y**3 == abs(x):\n",
    "            if x<0:\n",
    "                return \"ok\", -y        # so che radice cubica è una funzione dispari\n",
    "            else:\n",
    "                return \"ok\", y\n",
    "    return \"failed\",\"\"                  # fuori dal for perchè controllo che non valga per nessun y, allora gli do failed\n",
    "    \n",
    "\n",
    "def UnitTest():\n",
    "    Xs = [27, -8, 57893, 1957816251, 7406961012236344616, 35.7, 'ciao']\n",
    "    for i,x in enumerate(Xs):\n",
    "        msg, y = RadiceCubica(x)\n",
    "        if msg == 'ok':\n",
    "            print(\"Test \",i+1,' ok, result: ', y)\n",
    "        else:\n",
    "            print(\"Test \",i+1,' failed!')\n",
    "\n",
    "\n",
    "UnitTest()"
   ]
  }
 ],
 "metadata": {
  "kernelspec": {
   "display_name": "Python 3",
   "language": "python",
   "name": "python3"
  },
  "language_info": {
   "codemirror_mode": {
    "name": "ipython",
    "version": 3
   },
   "file_extension": ".py",
   "mimetype": "text/x-python",
   "name": "python",
   "nbconvert_exporter": "python",
   "pygments_lexer": "ipython3",
   "version": "3.6.0"
  }
 },
 "nbformat": 4,
 "nbformat_minor": 2
}
