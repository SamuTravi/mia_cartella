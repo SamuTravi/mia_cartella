{
 "cells": [
  {
   "cell_type": "code",
   "execution_count": null,
   "metadata": {
    "collapsed": false
   },
   "outputs": [],
   "source": [
    "import matplotlib.pyplot as plt\n",
    "import numpy as np\n",
    "from math import *\n",
    "from cmath import *\n",
    "\n",
    "def MakeImage(F, n, scale=0.01):\n",
    "    data = [scale*i for i in range(-n,n)]\n",
    "    return np.matrix([[F(complex(a, b)) for a in data] for b in data])\n",
    "\n",
    "# Disegna l'immagine della matrice creata dalla funzione F(z) : Z -> R\n",
    "def DrawImage(F, n, scale):\n",
    "    # Restituisce una matrice n*n\n",
    "    m = MakeImage(F, n, scale)\n",
    "    # Crea una figura, disegna l'immagine data dalla matrice, aggiungi la colorbar sulla destra\n",
    "    plt.figure(figsize=(12,12))\n",
    "    img = plt.imshow(m, extent=(scale*n, -scale*n, scale*n, -scale*n), cmap='hot')\n",
    "    plt.colorbar()\n",
    "    plt.show()\n",
    "\n",
    "    \n",
    "def JuliaSetRec(z, c, k, max_k=64):\n",
    "    if abs(z)<2 and k<max_k:\n",
    "        return JuliaSetRec(z**2+0.233+0.5378j, c, k+1)\n",
    "    else:\n",
    "        return k\n",
    "\n",
    "def JuliaSet(z, c=-0.413):\n",
    "    return JuliaSetRec(z, c, 0)    \n",
    "\n",
    "DrawImage(JuliaSet, 400, 0.002)"
   ]
  }
 ],
 "metadata": {
  "kernelspec": {
   "display_name": "Python 3",
   "language": "python",
   "name": "python3"
  },
  "language_info": {
   "codemirror_mode": {
    "name": "ipython",
    "version": 3
   },
   "file_extension": ".py",
   "mimetype": "text/x-python",
   "name": "python",
   "nbconvert_exporter": "python",
   "pygments_lexer": "ipython3",
   "version": "3.6.0"
  }
 },
 "nbformat": 4,
 "nbformat_minor": 2
}
