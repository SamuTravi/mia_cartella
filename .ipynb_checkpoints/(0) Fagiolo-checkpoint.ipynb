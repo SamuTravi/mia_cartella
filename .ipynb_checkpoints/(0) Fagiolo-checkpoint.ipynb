{
 "cells": [
  {
   "cell_type": "code",
   "execution_count": 3,
   "metadata": {
    "collapsed": false
   },
   "outputs": [
    {
     "name": "stdout",
     "output_type": "stream",
     "text": [
      "4.0 <class 'float'>\n"
     ]
    }
   ],
   "source": [
    "print(4.0,type(4.0))"
   ]
  },
  {
   "cell_type": "code",
   "execution_count": 11,
   "metadata": {
    "collapsed": false
   },
   "outputs": [],
   "source": [
    "def pot(b,e):\n",
    "    return b**e\n",
    "    "
   ]
  },
  {
   "cell_type": "code",
   "execution_count": 18,
   "metadata": {
    "collapsed": false
   },
   "outputs": [
    {
     "name": "stdout",
     "output_type": "stream",
     "text": [
      "[1, 2, 3, 4, 5, 6]\n"
     ]
    }
   ],
   "source": [
    "A=[1,3,2,5,4,6]\n",
    "A.sort()\n",
    "print(A)"
   ]
  },
  {
   "cell_type": "code",
   "execution_count": 26,
   "metadata": {
    "collapsed": false
   },
   "outputs": [
    {
     "name": "stdout",
     "output_type": "stream",
     "text": [
      "indice: 0 x= 1  \t -> f(x^3) = 1\n",
      "indice: 1 x= 2  \t -> f(x^3) = 8\n",
      "indice: 2 x= 3  \t -> f(x^3) = 27\n",
      "indice: 3 x= 4  \t -> f(x^3) = 64\n",
      "indice: 4 x= 5  \t -> f(x^3) = 125\n",
      "indice: 5 x= 6  \t -> f(x^3) = 216\n"
     ]
    }
   ],
   "source": [
    "for i,n in enumerate(A):\n",
    "    print(\"indice:\", i, \"x=\", str(n),\" \\t -> f(x^3) =\",str(pot(n,3)))\n"
   ]
  },
  {
   "cell_type": "code",
   "execution_count": 35,
   "metadata": {
    "collapsed": false
   },
   "outputs": [
    {
     "data": {
      "text/plain": [
       "[31, 54, 25, 6]"
      ]
     },
     "execution_count": 35,
     "metadata": {},
     "output_type": "execute_result"
    }
   ],
   "source": [
    "B=[1,22,31,54,25,6]\n",
    "B[2:]\n"
   ]
  },
  {
   "cell_type": "code",
   "execution_count": 47,
   "metadata": {
    "collapsed": false
   },
   "outputs": [
    {
     "name": "stdout",
     "output_type": "stream",
     "text": [
      "[97, 14, 50, 10, 58, 8]\n"
     ]
    }
   ],
   "source": [
    "from random import randint\n",
    "As=[randint(1,100) for _ in range(6)]\n",
    "print(As)"
   ]
  },
  {
   "cell_type": "code",
   "execution_count": 68,
   "metadata": {
    "collapsed": false
   },
   "outputs": [
    {
     "name": "stdout",
     "output_type": "stream",
     "text": [
      "5\n",
      "5\n",
      "5\n",
      "5\n",
      "5\n",
      "5\n",
      "5\n",
      "5\n",
      "5\n",
      "5\n"
     ]
    }
   ],
   "source": [
    "from random import seed\n",
    "for _ in range(10):\n",
    "    seed(45)\n",
    "    print(randint(1,10))"
   ]
  },
  {
   "cell_type": "code",
   "execution_count": 69,
   "metadata": {
    "collapsed": false
   },
   "outputs": [
    {
     "data": {
      "text/plain": [
       "6"
      ]
     },
     "execution_count": 69,
     "metadata": {},
     "output_type": "execute_result"
    }
   ],
   "source": [
    "len(As)"
   ]
  },
  {
   "cell_type": "code",
   "execution_count": 71,
   "metadata": {
    "collapsed": true
   },
   "outputs": [],
   "source": [
    "def Funzig(Ls,G):\n",
    "    somma=0\n",
    "    for x in Ls:\n",
    "        somma += G(x)\n",
    "    return somma\n"
   ]
  },
  {
   "cell_type": "code",
   "execution_count": 77,
   "metadata": {
    "collapsed": false
   },
   "outputs": [
    {
     "data": {
      "text/plain": [
       "64"
      ]
     },
     "execution_count": 77,
     "metadata": {},
     "output_type": "execute_result"
    }
   ],
   "source": [
    "Funzig([1,3,2,4,3,4,3], G=lambda x: x**2)"
   ]
  },
  {
   "cell_type": "code",
   "execution_count": 79,
   "metadata": {
    "collapsed": false
   },
   "outputs": [
    {
     "name": "stdout",
     "output_type": "stream",
     "text": [
      "Esempio di chiamata: Range(4) = [0, 1, 2, 3]\n"
     ]
    }
   ],
   "source": [
    "\n",
    "def Range(n):\n",
    "    \"\"\"\n",
    "    Construisce e ritorna la lista (0, ..., n-1)\n",
    "    \"\"\"\n",
    "    Ls = []\n",
    "    i = 0\n",
    "    while i < n:\n",
    "        Ls.append(i)\n",
    "        i += 1\n",
    "    return Ls\n",
    "\n",
    "print(\"Esempio di chiamata: Range(4) =\", Range(4))\n"
   ]
  },
  {
   "cell_type": "code",
   "execution_count": 105,
   "metadata": {
    "collapsed": false
   },
   "outputs": [
    {
     "name": "stdout",
     "output_type": "stream",
     "text": [
      "[-10, -8, -6, -4, -2, 0, 2, 4, 6, 8]\n"
     ]
    }
   ],
   "source": [
    "Ls = [x for x in range(-10,10,2)]\n",
    "print(Ls)"
   ]
  },
  {
   "cell_type": "code",
   "execution_count": 109,
   "metadata": {
    "collapsed": false
   },
   "outputs": [
    {
     "data": {
      "text/plain": [
       "[1, 32, 2, 3, 2, 15, 4, 3, 2, 2]"
      ]
     },
     "execution_count": 109,
     "metadata": {},
     "output_type": "execute_result"
    }
   ],
   "source": [
    "[1,32,2]+[3,2,15,4,3,2,2]"
   ]
  },
  {
   "cell_type": "code",
   "execution_count": 115,
   "metadata": {
    "collapsed": false
   },
   "outputs": [
    {
     "name": "stdout",
     "output_type": "stream",
     "text": [
      "[1, 32, 2, 5]\n"
     ]
    }
   ],
   "source": [
    "A=[1,32,2]\n",
    "A.append(5)\n",
    "print(A)"
   ]
  },
  {
   "cell_type": "code",
   "execution_count": 119,
   "metadata": {
    "collapsed": false
   },
   "outputs": [
    {
     "data": {
      "text/plain": [
       "'fagiolofagiolofagiolofagiolofagiolofagiolofagiolofagiolofagiolofagiolofagiolofagiolofagiolofagiolofagiolofagiolofagiolofagiolofagiolofagiolofagiolofagiolofagiolofagiolofagiolofagiolofagiolofagiolofagiolofagiolofagiolofagiolofagiolofagiolofagiolofagiolofagiolofagiolofagiolofagiolofagiolofagiolofagiolofagiolofagiolofagiolofagiolofagiolofagiolofagiolofagiolofagiolofagiolofagiolofagiolofagiolofagiolofagiolofagiolofagiolofagiolofagiolofagiolofagiolofagiolofagiolofagiolofagiolofagiolofagiolofagiolofagiolofagiolofagiolofagiolofagiolofagiolofagiolofagiolofagiolofagiolofagiolofagiolofagiolofagiolofagiolofagiolofagiolofagiolofagiolofagiolofagiolofagiolofagiolofagiolofagiolofagiolofagiolofagiolofagiolofagiolofagiolofagiolofagiolofagiolofagiolofagiolofagiolofagiolofagiolofagiolofagiolofagiolofagiolofagiolofagiolofagiolofagiolofagiolofagiolofagiolofagiolofagiolofagiolofagiolofagiolofagiolofagiolofagiolofagiolofagiolofagiolofagiolofagiolofagiolofagiolofagiolofagiolofagiolofagiolofagiolofagiolofagiolofagiolofagiolofagiolofagiolofagiolofagiolofagiolofagiolofagiolofagiolofagiolofagiolofagiolofagiolofagiolofagiolofagiolofagiolofagiolofagiolofagiolofagiolofagiolofagiolofagiolofagiolofagiolofagiolofagiolofagiolofagiolofagiolofagiolofagiolofagiolofagiolofagiolofagiolofagiolofagiolofagiolofagiolofagiolofagiolofagiolofagiolofagiolofagiolofagiolofagiolofagiolofagiolofagiolofagiolofagiolofagiolofagiolofagiolofagiolofagiolofagiolofagiolofagiolofagiolofagiolofagiolofagiolofagiolofagiolofagiolofagiolofagiolofagiolofagiolofagiolofagiolofagiolofagiolofagiolofagiolofagiolofagiolofagiolofagiolofagiolofagiolofagiolofagiolofagiolofagiolofagiolofagiolofagiolofagiolofagiolofagiolofagiolofagiolofagiolofagiolofagiolofagiolofagiolofagiolofagiolofagiolofagiolofagiolofagiolofagiolofagiolofagiolofagiolofagiolofagiolofagiolofagiolofagiolofagiolofagiolofagiolofagiolofagiolofagiolofagiolofagiolofagiolofagiolofagiolofagiolofagiolofagiolofagiolofagiolofagiolofagiolofagiolofagiolofagiolofagiolofagiolofagiolofagiolofagiolofagiolofagiolofagiolofagiolofagiolofagiolofagiolofagiolofagiolofagiolofagiolofagiolofagiolofagiolofagiolofagiolofagiolofagiolofagiolofagiolofagiolofagiolofagiolofagiolofagiolofagiolofagiolofagiolofagiolofagiolofagiolofagiolofagiolofagiolofagiolofagiolofagiolofagiolofagiolofagiolofagiolofagiolofagiolofagiolofagiolofagiolofagiolofagiolofagiolofagiolofagiolofagiolofagiolofagiolofagiolofagiolofagiolofagiolofagiolofagiolo'"
      ]
     },
     "execution_count": 119,
     "metadata": {},
     "output_type": "execute_result"
    }
   ],
   "source": [
    "\"fagiolo\"*347\n"
   ]
  },
  {
   "cell_type": "code",
   "execution_count": 123,
   "metadata": {
    "collapsed": false
   },
   "outputs": [
    {
     "name": "stdout",
     "output_type": "stream",
     "text": [
      "<class 'tuple'>\n",
      "(2, 4) 2 4\n"
     ]
    }
   ],
   "source": [
    "x=(2,4)\n",
    "print(type(x))\n",
    "print(x,x[0],x[1])"
   ]
  },
  {
   "cell_type": "code",
   "execution_count": 126,
   "metadata": {
    "collapsed": false
   },
   "outputs": [
    {
     "name": "stdout",
     "output_type": "stream",
     "text": [
      "(2, 4, 3, 2, 2)\n"
     ]
    }
   ],
   "source": [
    "x=2,4,3,2,2#le tuple sia senza che non ...\n",
    "print(x)"
   ]
  },
  {
   "cell_type": "code",
   "execution_count": 132,
   "metadata": {
    "collapsed": false
   },
   "outputs": [
    {
     "name": "stdout",
     "output_type": "stream",
     "text": [
      "aa\n"
     ]
    }
   ],
   "source": [
    "ls=[1,\"aa\",2,4]\n",
    "print(ls[1])"
   ]
  },
  {
   "cell_type": "code",
   "execution_count": 134,
   "metadata": {
    "collapsed": false
   },
   "outputs": [
    {
     "data": {
      "text/plain": [
       "['aa', 2, 'aa', 2, 'aa', 2]"
      ]
     },
     "execution_count": 134,
     "metadata": {},
     "output_type": "execute_result"
    }
   ],
   "source": [
    "ls[1:3]*3#potenza anche per liste"
   ]
  },
  {
   "cell_type": "code",
   "execution_count": 142,
   "metadata": {
    "collapsed": false
   },
   "outputs": [
    {
     "name": "stdout",
     "output_type": "stream",
     "text": [
      "<class 'int'> <class 'tuple'>\n"
     ]
    }
   ],
   "source": [
    "a=(2)\n",
    "b=(1,)#tupla di un solo elemento: ce vo la virgola\n",
    "print(type(a), type(b))\n"
   ]
  },
  {
   "cell_type": "code",
   "execution_count": 159,
   "metadata": {
    "collapsed": false
   },
   "outputs": [
    {
     "name": "stdout",
     "output_type": "stream",
     "text": [
      "[['MIT', 'Caltech'], ['Harvard', 'Yale', 'Penn']] \n",
      " [['MIT', 'Caltech'], ['Harvard', 'Yale', 'Penn']]\n",
      "True\n",
      "False\n"
     ]
    }
   ],
   "source": [
    "Techs = ['MIT', 'Caltech']\n",
    "Ivys = ['Harvard','Yale','Penn']\n",
    "U1 = [Techs, Ivys]\n",
    "U2 = [['MIT', 'Caltech'], ['Harvard','Yale','Penn']]\n",
    "print(U1, \"\\n\", U2)\n",
    "print(U1 == U2)\n",
    "print(id(U1) == id(U2)) "
   ]
  },
  {
   "cell_type": "code",
   "execution_count": 160,
   "metadata": {
    "collapsed": false
   },
   "outputs": [
    {
     "name": "stdout",
     "output_type": "stream",
     "text": [
      "I\n",
      "C\n",
      "O\n",
      ",\n",
      " \n",
      "s\n",
      "t\n"
     ]
    }
   ],
   "source": [
    "commento = \"ENRICO, stai sereno!\"\n",
    "for c in commento[3:10]:\n",
    "    print(c)"
   ]
  },
  {
   "cell_type": "code",
   "execution_count": 164,
   "metadata": {
    "collapsed": false
   },
   "outputs": [
    {
     "name": "stdout",
     "output_type": "stream",
     "text": [
      "E N R I C O ,   S T A I   S E R E N O ! "
     ]
    }
   ],
   "source": [
    "commento = \"Enrico, stai sereno!\"\n",
    "for c in commento:\n",
    "    print(c.upper(), end=' ')\n"
   ]
  },
  {
   "cell_type": "code",
   "execution_count": 169,
   "metadata": {
    "collapsed": false
   },
   "outputs": [
    {
     "name": "stdout",
     "output_type": "stream",
     "text": [
      "2\n"
     ]
    }
   ],
   "source": [
    "s=\"Cocco bello fresco Cocco COCCO\"\n",
    "s1=\"Cocco\"\n",
    "print(s.count(s1))"
   ]
  },
  {
   "cell_type": "code",
   "execution_count": 173,
   "metadata": {
    "collapsed": false
   },
   "outputs": [
    {
     "name": "stdout",
     "output_type": "stream",
     "text": [
      "19\n"
     ]
    }
   ],
   "source": [
    "s=\"Cocco bello fresco Cocco COCCO\"\n",
    "s1=\"Cocco\"\n",
    "print(s.count(s1))"
   ]
  },
  {
   "cell_type": "code",
   "execution_count": 193,
   "metadata": {
    "collapsed": false
   },
   "outputs": [
    {
     "data": {
      "text/plain": [
       "'Cocca'"
      ]
     },
     "execution_count": 193,
     "metadata": {},
     "output_type": "execute_result"
    }
   ],
   "source": [
    "s=\"Cocco bello fresco Cocca COCCO\"\n",
    "Gs=s.split( )\n",
    "Gs[3]\n",
    "\n"
   ]
  },
  {
   "cell_type": "code",
   "execution_count": null,
   "metadata": {
    "collapsed": true
   },
   "outputs": [],
   "source": []
  }
 ],
 "metadata": {
  "kernelspec": {
   "display_name": "Python 3",
   "language": "python",
   "name": "python3"
  },
  "language_info": {
   "codemirror_mode": {
    "name": "ipython",
    "version": 3
   },
   "file_extension": ".py",
   "mimetype": "text/x-python",
   "name": "python",
   "nbconvert_exporter": "python",
   "pygments_lexer": "ipython3",
   "version": "3.6.0"
  }
 },
 "nbformat": 4,
 "nbformat_minor": 2
}
