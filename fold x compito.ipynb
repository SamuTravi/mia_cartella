{
 "cells": [
  {
   "cell_type": "code",
   "execution_count": 1,
   "metadata": {
    "collapsed": false
   },
   "outputs": [],
   "source": [
    "def Fold(F, v, Ls):\n",
    "    if Ls == []:\n",
    "        return v\n",
    "    else:\n",
    "        return F(Ls[0], Fold(F, v, Ls[1:]))\n",
    "\n",
    "\n",
    "def And(Ls):\n",
    "    def FAnd(a,b):\n",
    "        return a and b\n",
    "    return Fold(lambda a,b: a and b, True, Ls)\n",
    "\n",
    "def Or(Ls):\n",
    "    def FOr(a,b):\n",
    "        return a or b\n",
    "    return Fold(FOr, False, Ls)"
   ]
  },
  {
   "cell_type": "code",
   "execution_count": null,
   "metadata": {
    "collapsed": false
   },
   "outputs": [],
   "source": []
  },
  {
   "cell_type": "code",
   "execution_count": 70,
   "metadata": {
    "collapsed": false
   },
   "outputs": [
    {
     "data": {
      "text/plain": [
       "(1, (2, (3, (1, (2, (2, 133))))))"
      ]
     },
     "execution_count": 70,
     "metadata": {},
     "output_type": "execute_result"
    }
   ],
   "source": [
    "def FM(Ls):\n",
    "    def FFM(a,b):\n",
    "        return (a,b)z\n",
    "    return Fold(FFM, 133, Ls)\n",
    "\n",
    "FM([1,2,3,1,2,2])   ############################################################## NON SCURDA'"
   ]
  },
  {
   "cell_type": "code",
   "execution_count": 23,
   "metadata": {
    "collapsed": false
   },
   "outputs": [],
   "source": [
    "def Length(Ls):\n",
    "    def FLength(a,b):                   # b è il numero di iterazioni\n",
    "        return b+1                      # non gli interessa cosa fa a ma solo il passo prima in cui viene calcolato un numero (b)\n",
    "    return Fold(FLength, 0, Ls)"
   ]
  },
  {
   "cell_type": "code",
   "execution_count": 9,
   "metadata": {
    "collapsed": false
   },
   "outputs": [],
   "source": [
    "def Reverse(Ls):                                    ############## EUREKA\n",
    "    def FReverse(a,LLs):\n",
    "        return LLs+[a]\n",
    "    return Fold(FReverse, [], Ls)"
   ]
  },
  {
   "cell_type": "code",
   "execution_count": 11,
   "metadata": {
    "collapsed": false
   },
   "outputs": [
    {
     "data": {
      "text/plain": [
       "[2, 51, 24, 1, 4, 1]"
      ]
     },
     "execution_count": 11,
     "metadata": {},
     "output_type": "execute_result"
    }
   ],
   "source": [
    "Reverse([1,4, 1, 24, 51, 2])"
   ]
  },
  {
   "cell_type": "code",
   "execution_count": 20,
   "metadata": {
    "collapsed": false
   },
   "outputs": [],
   "source": [
    "def FoldFactorial(n):\n",
    "    Ns=list(range(1,n+1))\n",
    "    return Fold(lambda a,b: a*b, 1, Ns)"
   ]
  },
  {
   "cell_type": "code",
   "execution_count": 19,
   "metadata": {
    "collapsed": false
   },
   "outputs": [
    {
     "data": {
      "text/plain": [
       "[1, 1, 2, 6, 24, 120, 720, 5040, 40320, 362880]"
      ]
     },
     "execution_count": 19,
     "metadata": {},
     "output_type": "execute_result"
    }
   ],
   "source": [
    "list(FoldFactorial(n) for n in range(10))"
   ]
  },
  {
   "cell_type": "code",
   "execution_count": 28,
   "metadata": {
    "collapsed": false
   },
   "outputs": [],
   "source": [
    "def Map(F,Ls):\n",
    "    def FMap(a,LLs):\n",
    "        return [F(a)]+LLs\n",
    "    return Fold(FMap, [], Ls)"
   ]
  },
  {
   "cell_type": "code",
   "execution_count": 35,
   "metadata": {
    "collapsed": false
   },
   "outputs": [],
   "source": [
    "def Filter(P, Ls):\n",
    "    def FFilter(a, LLs):\n",
    "        if P(a) == True:\n",
    "            return [a]+LLs           # se il predicato su a è vero lo attacco\n",
    "        else:\n",
    "            return LLs               # se no lascia la lista invariata\n",
    "    return Fold(FFilter, [], Ls)"
   ]
  },
  {
   "cell_type": "code",
   "execution_count": 36,
   "metadata": {
    "collapsed": false
   },
   "outputs": [
    {
     "data": {
      "text/plain": [
       "[1, 4, 9]"
      ]
     },
     "execution_count": 36,
     "metadata": {},
     "output_type": "execute_result"
    }
   ],
   "source": [
    "Map(lambda x: x**2, [1,2,3])"
   ]
  },
  {
   "cell_type": "code",
   "execution_count": 37,
   "metadata": {
    "collapsed": false
   },
   "outputs": [
    {
     "data": {
      "text/plain": [
       "[1, 4, 7]"
      ]
     },
     "execution_count": 37,
     "metadata": {},
     "output_type": "execute_result"
    }
   ],
   "source": [
    "Filter(lambda x: x%3 ==1, [1,2,3,4,5,6,7])"
   ]
  },
  {
   "cell_type": "code",
   "execution_count": 104,
   "metadata": {
    "collapsed": true
   },
   "outputs": [],
   "source": [
    "def FoldLeft(F, v, Ls):\n",
    "    if Ls == []:                 # aggiustare non giraaaaaaaaaaaaaaaaaaaaaaaaaa\n",
    "        return v\n",
    "    else:\n",
    "        return F(Ls[0], Fold(F, v, Ls[]))"
   ]
  },
  {
   "cell_type": "code",
   "execution_count": 105,
   "metadata": {
    "collapsed": false
   },
   "outputs": [
    {
     "data": {
      "text/plain": [
       "(1, 133)"
      ]
     },
     "execution_count": 105,
     "metadata": {},
     "output_type": "execute_result"
    }
   ],
   "source": [
    "def FM(Ls):                                 #controllo per la foldleft\n",
    "    def FFM(a,b):\n",
    "        return (a,b)\n",
    "    return FoldLeft(FFM, 133, Ls)\n",
    "\n",
    "FM([1,2,3,1,2,2])"
   ]
  },
  {
   "cell_type": "code",
   "execution_count": 24,
   "metadata": {
    "collapsed": true
   },
   "outputs": [],
   "source": [
    "def SumLength(Ls):\n",
    "    return (Fold(lambda x,y: x+y, 0, Ls), Length(Ls))        # con una lambda oppure faccio una def come sopra"
   ]
  },
  {
   "cell_type": "code",
   "execution_count": 26,
   "metadata": {
    "collapsed": false
   },
   "outputs": [
    {
     "data": {
      "text/plain": [
       "(9, 9)"
      ]
     },
     "execution_count": 26,
     "metadata": {},
     "output_type": "execute_result"
    }
   ],
   "source": [
    "SumLength([1,1,1,1,1,1,1,1,1])"
   ]
  },
  {
   "cell_type": "code",
   "execution_count": null,
   "metadata": {
    "collapsed": true
   },
   "outputs": [],
   "source": []
  }
 ],
 "metadata": {
  "kernelspec": {
   "display_name": "Python 3",
   "language": "python",
   "name": "python3"
  },
  "language_info": {
   "codemirror_mode": {
    "name": "ipython",
    "version": 3
   },
   "file_extension": ".py",
   "mimetype": "text/x-python",
   "name": "python",
   "nbconvert_exporter": "python",
   "pygments_lexer": "ipython3",
   "version": "3.6.0"
  }
 },
 "nbformat": 4,
 "nbformat_minor": 2
}
