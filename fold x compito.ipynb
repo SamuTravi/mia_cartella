{
 "cells": [
  {
   "cell_type": "code",
   "execution_count": 66,
   "metadata": {
    "collapsed": false
   },
   "outputs": [],
   "source": [
    "def Fold(F, v, Ls):                           #################################### ok\n",
    "    if Ls == []:\n",
    "        return v\n",
    "    else:\n",
    "        return F(Ls[0], Fold(F, v, Ls[1:]))\n",
    "\n",
    "def FAnd(a,b):                      #oppure uso and_ e or_ importando dalla libreria operator\n",
    "    return a and b\n",
    "    \n",
    "def And(Ls):\n",
    "    return Fold(FAnd, True, Ls)\n",
    "    "
   ]
  },
  {
   "cell_type": "code",
   "execution_count": 68,
   "metadata": {
    "collapsed": false
   },
   "outputs": [
    {
     "data": {
      "text/plain": [
       "True"
      ]
     },
     "execution_count": 68,
     "metadata": {},
     "output_type": "execute_result"
    }
   ],
   "source": [
    "And([True, True, True])"
   ]
  },
  {
   "cell_type": "code",
   "execution_count": 71,
   "metadata": {
    "collapsed": false
   },
   "outputs": [],
   "source": [
    "def FOr(a,b):                         ################################## ok\n",
    "    return a or b\n",
    "\n",
    "def Or(Ls):\n",
    "    return Fold(FOr, False, Ls)"
   ]
  },
  {
   "cell_type": "code",
   "execution_count": 173,
   "metadata": {
    "collapsed": false
   },
   "outputs": [],
   "source": [
    "def FLength(a,b):    # con a listo i valori, con b tengo traccia dell'indice ###################################### ok\n",
    "    return b+1\n",
    "\n",
    "def Length(Ls):\n",
    "    return Fold(FLength, 0, Ls)"
   ]
  },
  {
   "cell_type": "code",
   "execution_count": 174,
   "metadata": {
    "collapsed": false
   },
   "outputs": [
    {
     "data": {
      "text/plain": [
       "7"
      ]
     },
     "execution_count": 174,
     "metadata": {},
     "output_type": "execute_result"
    }
   ],
   "source": [
    "Length([1,3,2,4,6,1,8])"
   ]
  },
  {
   "cell_type": "code",
   "execution_count": 224,
   "metadata": {
    "collapsed": false
   },
   "outputs": [
    {
     "ename": "SyntaxError",
     "evalue": "illegal expression for augmented assignment (<ipython-input-224-13efb4b01f94>, line 3)",
     "output_type": "error",
     "traceback": [
      "\u001b[0;36m  File \u001b[0;32m\"<ipython-input-224-13efb4b01f94>\"\u001b[0;36m, line \u001b[0;32m3\u001b[0m\n\u001b[0;31m    [a]+=[a]\u001b[0m\n\u001b[0m    ^\u001b[0m\n\u001b[0;31mSyntaxError\u001b[0m\u001b[0;31m:\u001b[0m illegal expression for augmented assignment\n"
     ]
    }
   ],
   "source": [
    "def FReverse(a,b):           # non gira giusto\n",
    "    print(a)\n",
    "    return a\n",
    "\n",
    "def Reverse(Ls):\n",
    "    Fold(FReverse, 0, Ls)"
   ]
  },
  {
   "cell_type": "code",
   "execution_count": 225,
   "metadata": {
    "collapsed": false
   },
   "outputs": [
    {
     "name": "stdout",
     "output_type": "stream",
     "text": [
      "2\n",
      "9\n",
      "1\n",
      "5\n",
      "1\n",
      "3\n",
      "2\n",
      "1\n"
     ]
    }
   ],
   "source": [
    "Reverse([1,2,3,1,5,1,9,2])"
   ]
  },
  {
   "cell_type": "code",
   "execution_count": 187,
   "metadata": {
    "collapsed": false
   },
   "outputs": [],
   "source": [
    "def FMul(a,b):              ############################################ ok\n",
    "    return a*b\n",
    "\n",
    "def FoldFactorial(n):\n",
    "    Ns=list(range(1,n+1))\n",
    "    return Fold(FMul,1,Ns)"
   ]
  },
  {
   "cell_type": "code",
   "execution_count": 189,
   "metadata": {
    "collapsed": false
   },
   "outputs": [
    {
     "data": {
      "text/plain": [
       "120"
      ]
     },
     "execution_count": 189,
     "metadata": {},
     "output_type": "execute_result"
    }
   ],
   "source": [
    "FoldFactorial(5)"
   ]
  },
  {
   "cell_type": "code",
   "execution_count": null,
   "metadata": {
    "collapsed": false
   },
   "outputs": [],
   "source": []
  },
  {
   "cell_type": "code",
   "execution_count": null,
   "metadata": {
    "collapsed": false
   },
   "outputs": [],
   "source": []
  },
  {
   "cell_type": "code",
   "execution_count": null,
   "metadata": {
    "collapsed": true
   },
   "outputs": [],
   "source": []
  }
 ],
 "metadata": {
  "kernelspec": {
   "display_name": "Python 3",
   "language": "python",
   "name": "python3"
  },
  "language_info": {
   "codemirror_mode": {
    "name": "ipython",
    "version": 3
   },
   "file_extension": ".py",
   "mimetype": "text/x-python",
   "name": "python",
   "nbconvert_exporter": "python",
   "pygments_lexer": "ipython3",
   "version": "3.6.0"
  }
 },
 "nbformat": 4,
 "nbformat_minor": 2
}
