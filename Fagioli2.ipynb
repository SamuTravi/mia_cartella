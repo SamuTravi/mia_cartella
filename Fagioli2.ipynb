{
 "cells": [
  {
   "cell_type": "code",
   "execution_count": 17,
   "metadata": {
    "collapsed": false
   },
   "outputs": [
    {
     "name": "stdout",
     "output_type": "stream",
     "text": [
      "PassengerId,Survived,Pclass,Name,Sex,Age,SibSp,Parch,Ticket,Fare,Cabin,Embarked\n",
      "\n",
      "1,0,3,\"Braund, Mr. Owen Harris\",male,22,1,0,A/5 21171,7.25,,S\n",
      "\n",
      "2,1,1,\"Cumings, Mrs. John Bradley (Florence Briggs Thayer)\",female,38,1,0,PC 17599,71.2833,C85,C\n",
      "\n",
      "3,1,3,\"Heikkinen, Miss. Laina\",female,26,0,0,STON/O2. 3101282,7.925,,S\n",
      "\n",
      "4,1,1,\"Futrelle, Mrs. Jacques Heath (Lily May Peel)\",female,35,1,0,113803,53.1,C123,S\n",
      "\n",
      "5,0,3,\"Allen, Mr. William Henry\",male,35,0,0,373450,8.05,,S\n",
      "\n",
      "6,0,3,\"Moran, Mr. James\",male,,0,0,330877,8.4583,,Q\n",
      "\n",
      "7,0,1,\"McCarthy, Mr. Timothy J\",male,54,0,0,17463,51.8625,E46,S\n",
      "\n",
      "8,0,3,\"Palsson, Master. Gosta Leonard\",male,2,3,1,349909,21.075,,S\n",
      "\n",
      "9,1,3,\"Johnson, Mrs. Oscar W (Elisabeth Vilhelmina Berg)\",female,27,0,2,347742,11.1333,,S\n",
      "\n",
      "10,1,2,\"Nasser, Mrs. Nicholas (Adele Achem)\",female,14,1,0,237736,30.0708,,C\n",
      "0\n"
     ]
    }
   ],
   "source": [
    "def ReadAndCount2(filename):\n",
    "    doc=open(filename,\"r\")\n",
    "    for row in doc:\n",
    "        print(row)\n",
    "    doc.close()\n",
    "    return 0\n",
    "\n",
    "ReadAndCount2(\"train-small.csv\")"
   ]
  },
  {
   "cell_type": "code",
   "execution_count": 60,
   "metadata": {
    "collapsed": false
   },
   "outputs": [
    {
     "name": "stdout",
     "output_type": "stream",
     "text": [
      "['PassengerId,Survived,Pclass,Name,Sex,Age,SibSp,Parch,Ticket,Fare,Cabin,Embarked']\n",
      "['1,0,3,Braund,', 'Mr.', 'Owen', 'Harris,male,22,1,0,A/5', '21171,7.25,,S']\n",
      "['2,1,1,Cumings,', 'Mrs.', 'John', 'Bradley', '(Florence', 'Briggs', 'Thayer),female,38,1,0,PC', '17599,71.2833,C85,C']\n",
      "['3,1,3,Heikkinen,', 'Miss.', 'Laina,female,26,0,0,STON/O2.', '3101282,7.925,,S']\n",
      "['4,1,1,Futrelle,', 'Mrs.', 'Jacques', 'Heath', '(Lily', 'May', 'Peel),female,35,1,0,113803,53.1,C123,S']\n",
      "['5,0,3,Allen,', 'Mr.', 'William', 'Henry,male,35,0,0,373450,8.05,,S']\n",
      "['6,0,3,Moran,', 'Mr.', 'James,male,,0,0,330877,8.4583,,Q']\n",
      "['7,0,1,McCarthy,', 'Mr.', 'Timothy', 'J,male,54,0,0,17463,51.8625,E46,S']\n",
      "['8,0,3,Palsson,', 'Master.', 'Gosta', 'Leonard,male,2,3,1,349909,21.075,,S']\n",
      "['9,1,3,Johnson,', 'Mrs.', 'Oscar', 'W', '(Elisabeth', 'Vilhelmina', 'Berg),female,27,0,2,347742,11.1333,,S']\n",
      "['10,1,2,Nasser,', 'Mrs.', 'Nicholas', '(Adele', 'Achem),female,14,1,0,237736,30.0708,,C']\n"
     ]
    },
    {
     "data": {
      "text/plain": [
       "0"
      ]
     },
     "execution_count": 60,
     "metadata": {},
     "output_type": "execute_result"
    }
   ],
   "source": [
    "def ReadAndCount(filename):\n",
    "    doc=open(filename,\"r\")\n",
    "    for row in doc:\n",
    "        v=row.replace(\"\\n\",\"\")\n",
    "        w=v.replace('\"',\"\")\n",
    "        z=w.split()\n",
    "        print(z)\n",
    "        \n",
    "        \n",
    "    doc.close()\n",
    "    return 0\n",
    "\n",
    "\n",
    "ReadAndCount(\"train-small.csv\")"
   ]
  },
  {
   "cell_type": "code",
   "execution_count": 61,
   "metadata": {
    "collapsed": false
   },
   "outputs": [
    {
     "ename": "NameError",
     "evalue": "name 'As' is not defined",
     "output_type": "error",
     "traceback": [
      "\u001b[0;31m---------------------------------------------------------------------------\u001b[0m",
      "\u001b[0;31mNameError\u001b[0m                                 Traceback (most recent call last)",
      "\u001b[0;32m<ipython-input-61-e4dd334da071>\u001b[0m in \u001b[0;36m<module>\u001b[0;34m()\u001b[0m\n\u001b[0;32m----> 1\u001b[0;31m \u001b[0mhelp\u001b[0m\u001b[1;33m(\u001b[0m\u001b[0mAs\u001b[0m\u001b[1;33m.\u001b[0m\u001b[0mreplace\u001b[0m\u001b[1;33m)\u001b[0m\u001b[1;33m\u001b[0m\u001b[0m\n\u001b[0m",
      "\u001b[0;31mNameError\u001b[0m: name 'As' is not defined"
     ]
    }
   ],
   "source": [
    "help(As.replace)"
   ]
  },
  {
   "cell_type": "code",
   "execution_count": 72,
   "metadata": {
    "collapsed": false
   },
   "outputs": [
    {
     "name": "stdout",
     "output_type": "stream",
     "text": [
      "True\n",
      "False\n"
     ]
    }
   ],
   "source": [
    "from operator import *\n",
    "print(and_(True, True))\n",
    "print(True and False)"
   ]
  },
  {
   "cell_type": "code",
   "execution_count": 75,
   "metadata": {
    "collapsed": false
   },
   "outputs": [],
   "source": [
    "from operator import *\n",
    "def And(and_,true,Ls):\n",
    "    if Ls==[]:\n",
    "        return true\n",
    "    else:\n",
    "        return and_(Ls[0],And(and_,true,Ls[1:]))"
   ]
  },
  {
   "cell_type": "code",
   "execution_count": 87,
   "metadata": {
    "collapsed": false
   },
   "outputs": [
    {
     "data": {
      "text/plain": [
       "False"
      ]
     },
     "execution_count": 87,
     "metadata": {},
     "output_type": "execute_result"
    }
   ],
   "source": [
    "from operator import *    ##################################################################################################\n",
    "\n",
    "def Fold(F, v, Ls):\n",
    "    if Ls == []:\n",
    "        return v\n",
    "    else:\n",
    "        return F(Ls[0], Fold(F, v, Ls[1:]))\n",
    "\n",
    "def FoldAnd(Ls):\n",
    "    return Fold(and_, True, Ls)\n",
    "\n",
    "FoldAnd([True,True,False])\n"
   ]
  },
  {
   "cell_type": "code",
   "execution_count": 98,
   "metadata": {
    "collapsed": false
   },
   "outputs": [
    {
     "data": {
      "text/plain": [
       "False"
      ]
     },
     "execution_count": 98,
     "metadata": {},
     "output_type": "execute_result"
    }
   ],
   "source": [
    "def FoldOr(Ls):\n",
    "    return Fold(or_,False,Ls)\n",
    "\n",
    "FoldOr([False,False])"
   ]
  },
  {
   "cell_type": "code",
   "execution_count": 118,
   "metadata": {
    "collapsed": true
   },
   "outputs": [],
   "source": [
    "def Lunghezza(Ls):#######IDENTAZIONE IDENTAZUONE IDENTAZIONE DEVE PRENDE 2 ARGOMENTI\n",
    "    n=0\n",
    "    for i in Ls:\n",
    "        n+=1\n",
    "    return n\n",
    "\n",
    "def FoldLunghezza(Ls):\n",
    "    return Fold(Lunghezza,0,Ls)"
   ]
  },
  {
   "cell_type": "code",
   "execution_count": 131,
   "metadata": {
    "collapsed": false
   },
   "outputs": [],
   "source": [
    "def Lunghezza(Ls,Ms):\n",
    "    return Ls+Ms\n",
    "    \n",
    "def FoldLunghezza(Ls):\n",
    "    return Fold(Lunghezza,0,Ls)\n",
    "\n"
   ]
  },
  {
   "cell_type": "code",
   "execution_count": 132,
   "metadata": {
    "collapsed": false
   },
   "outputs": [
    {
     "data": {
      "text/plain": [
       "8"
      ]
     },
     "execution_count": 132,
     "metadata": {},
     "output_type": "execute_result"
    }
   ],
   "source": [
    "FoldLunghezza([1,2,3,2])"
   ]
  },
  {
   "cell_type": "code",
   "execution_count": null,
   "metadata": {
    "collapsed": true
   },
   "outputs": [],
   "source": []
  }
 ],
 "metadata": {
  "kernelspec": {
   "display_name": "Python 3",
   "language": "python",
   "name": "python3"
  },
  "language_info": {
   "codemirror_mode": {
    "name": "ipython",
    "version": 3
   },
   "file_extension": ".py",
   "mimetype": "text/x-python",
   "name": "python",
   "nbconvert_exporter": "python",
   "pygments_lexer": "ipython3",
   "version": "3.6.0"
  }
 },
 "nbformat": 4,
 "nbformat_minor": 2
}
